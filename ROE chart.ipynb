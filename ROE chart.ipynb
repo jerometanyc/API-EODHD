{
 "cells": [
  {
   "cell_type": "code",
   "execution_count": 2,
   "id": "d2d77d9a-868f-48bd-8a17-52ff9be2fa74",
   "metadata": {},
   "outputs": [
    {
     "ename": "ModuleNotFoundError",
     "evalue": "No module named 'api_token_file'",
     "output_type": "error",
     "traceback": [
      "\u001b[1;31m---------------------------------------------------------------------------\u001b[0m",
      "\u001b[1;31mModuleNotFoundError\u001b[0m                       Traceback (most recent call last)",
      "Cell \u001b[1;32mIn[2], line 4\u001b[0m\n\u001b[0;32m      2\u001b[0m \u001b[38;5;28;01mimport\u001b[39;00m \u001b[38;5;21;01mpandas\u001b[39;00m \u001b[38;5;28;01mas\u001b[39;00m \u001b[38;5;21;01mpd\u001b[39;00m\n\u001b[0;32m      3\u001b[0m \u001b[38;5;28;01mimport\u001b[39;00m \u001b[38;5;21;01mjson\u001b[39;00m\n\u001b[1;32m----> 4\u001b[0m \u001b[38;5;28;01mimport\u001b[39;00m \u001b[38;5;21;01mapi_token_file\u001b[39;00m \n\u001b[0;32m      6\u001b[0m tickers_list \u001b[38;5;241m=\u001b[39m [\u001b[38;5;124m'\u001b[39m\u001b[38;5;124mAAPL\u001b[39m\u001b[38;5;124m'\u001b[39m]\n\u001b[0;32m      8\u001b[0m \u001b[38;5;28;01mfor\u001b[39;00m ticker \u001b[38;5;129;01min\u001b[39;00m tickers_list: \n",
      "\u001b[1;31mModuleNotFoundError\u001b[0m: No module named 'api_token_file'"
     ]
    }
   ],
   "source": [
    "import requests\n",
    "import pandas as pd\n",
    "import json\n",
    "import api_token_fil\n",
    "\n",
    "tickers_list = ['AAPL']\n",
    "\n",
    "for ticker in tickers_list: \n",
    "    print(f'Company ticker: {ticker}')\n",
    "    fundamental_data_url = f'https://eodhd.com/api/fundamentals/{ticker}?api_token={api_token}&fmt=json'\n",
    "    fundamental_data_json = requests.get(fundamental_data_url).json()\n",
    "    \n",
    "    is_yearly_df = pd.DataFrame.from_dict(fundamental_data_json['Financials']['Income_Statement']['yearly'])\n",
    "    bs_yearly_df = pd.DataFrame.from_dict(fundamental_data_json['Financials']['Balance_Sheet']['yearly'])\n",
    "    cfs_yearly_df = pd.DataFrame.from_dict(fundamental_data_json['Financials']['Cash_Flow']['yearly'])\n",
    "    \n",
    "    display(bs_yearly_df)\n",
    "\n"
   ]
  },
  {
   "cell_type": "code",
   "execution_count": null,
   "id": "fbf04ce9-dc10-4e61-a12f-c1c65c98fb9b",
   "metadata": {},
   "outputs": [],
   "source": []
  }
 ],
 "metadata": {
  "kernelspec": {
   "display_name": "Python 3 (ipykernel)",
   "language": "python",
   "name": "python3"
  },
  "language_info": {
   "codemirror_mode": {
    "name": "ipython",
    "version": 3
   },
   "file_extension": ".py",
   "mimetype": "text/x-python",
   "name": "python",
   "nbconvert_exporter": "python",
   "pygments_lexer": "ipython3",
   "version": "3.11.7"
  }
 },
 "nbformat": 4,
 "nbformat_minor": 5
}
